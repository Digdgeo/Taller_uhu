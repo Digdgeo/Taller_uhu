{
 "cells": [
  {
   "cell_type": "markdown",
   "metadata": {},
   "source": [
    "# Generacion de Indices con python"
   ]
  },
  {
   "cell_type": "markdown",
   "metadata": {},
   "source": [
    "vamos a realizar un MNDWI con python. Para ello debemos de leer los rasters necesarios, en este caso \n",
    "las bandas 3 (GREEN) y 7 (SWIR1)"
   ]
  },
  {
   "cell_type": "code",
   "execution_count": null,
   "metadata": {
    "collapsed": false
   },
   "outputs": [],
   "source": [
    "import rasterio\n",
    "import numpy as np\n",
    "\n",
    "#Abrimos las bandas con rasterio\n",
    "\n",
    "b3 = '/home/diego/Downloads/mndwi_bandas/RT_LC82020342014336LGN00_B3.TIF'\n",
    "b7 = '/home/diego/Downloads/mndwi_bandas/RT_LC82020342014336LGN00_B7.TIF'\n",
    "\n",
    "#Vamos a guardar el resultado, por tanto debemos de crear un archivo de salida vacio\n",
    "outfile = '/home/diego/Downloads/mndwi_bandas/mndwi.tif'\n",
    "\n",
    "with rasterio.open(b3) as green:\n",
    "    \n",
    "    GREEN = green.read()\n",
    "    \n",
    "with rasterio.open(b7) as swir1:\n",
    "    \n",
    "    SWIR1 = swir1.read()\n",
    "    \n",
    "#mndwi = GREEN-SWIR1/GREEN+SWIR1\n",
    "\n",
    "mndwi = np.true_divide((GREEN-SWIR1), (GREEN+SWIR1))\n",
    "\n",
    "profile = green.meta\n",
    "profile.update(dtype=rasterio.float32)\n",
    "\n",
    "with rasterio.open(outfile, 'w', **profile) as dst:\n",
    "    dst.write(mndwi.astype(rasterio.float32))\n",
    "\n",
    "\n",
    "    \n",
    "    "
   ]
  },
  {
   "cell_type": "markdown",
   "metadata": {},
   "source": [
    "# Reclasificacion del raster en inundado-no inundado"
   ]
  },
  {
   "cell_type": "code",
   "execution_count": null,
   "metadata": {
    "collapsed": false
   },
   "outputs": [],
   "source": [
    "indice = '/home/diego/Downloads/mndwi_bandas/mndwi.tif'\n",
    "outfile = '/home/diego/Downloads/mndwi_bandas/mndwi_reclas.tif'\n",
    "\n",
    "with rasterio.open(indice) as ix:\n",
    "    \n",
    "    IX = ix.read()\n",
    "    clas = np.where(IX <= 0.02, 0, 1)\n",
    "    \n",
    "profile = ix.meta\n",
    "profile.update(dtype=rasterio.float32)\n",
    "\n",
    "with rasterio.open(outfile, 'w', **profile) as dst:\n",
    "    dst.write(clas.astype(rasterio.float32))"
   ]
  },
  {
   "cell_type": "code",
   "execution_count": null,
   "metadata": {
    "collapsed": true
   },
   "outputs": [],
   "source": []
  }
 ],
 "metadata": {
  "kernelspec": {
   "display_name": "Python 2",
   "language": "python",
   "name": "python2"
  },
  "language_info": {
   "codemirror_mode": {
    "name": "ipython",
    "version": 2
   },
   "file_extension": ".py",
   "mimetype": "text/x-python",
   "name": "python",
   "nbconvert_exporter": "python",
   "pygments_lexer": "ipython2",
   "version": "2.7.11"
  }
 },
 "nbformat": 4,
 "nbformat_minor": 0
}
