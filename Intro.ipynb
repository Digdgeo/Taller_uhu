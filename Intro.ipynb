{
 "cells": [
  {
   "cell_type": "markdown",
   "metadata": {
    "collapsed": true
   },
   "source": [
    "# Bienvenidos a Jupyter Notebook"
   ]
  },
  {
   "cell_type": "markdown",
   "metadata": {
    "collapsed": true
   },
   "source": [
    "Un notebook es una IDE (entorno de desarrollo integrado), donde podemos ver y probar nuestros scripts.\n",
    "En ellos podemos escribir texto, mostrar imagenes, graficos, renderizar html y bastantes cosas mas.\n",
    "\n",
    "Su ventaja principal es la facilidad de uso y la agilidad para probrar y ejecutar codigo"
   ]
  },
  {
   "cell_type": "code",
   "execution_count": null,
   "metadata": {
    "collapsed": false
   },
   "outputs": [],
   "source": [
    "#Esta es la primera linea de codigo que hemos escrito\n",
    "print 'pero esta comentada'"
   ]
  },
  {
   "cell_type": "markdown",
   "metadata": {},
   "source": [
    "Sin entrar en detalles, decir tan solo que hay una serie de tipos de dato:"
   ]
  },
  {
   "cell_type": "code",
   "execution_count": null,
   "metadata": {
    "collapsed": false
   },
   "outputs": [],
   "source": [
    "#Tipo string str()\n",
    "var = 'soy un string'\n",
    "print 'strings:\\n', var, type(var)\n",
    "print ''\n",
    "\n",
    "#tipo numerico (enteros, float...)\n",
    "var1 = 17.58\n",
    "print 'numerico:\\n', var1, type(var1)\n",
    "print int(var1), type(int(var1))\n",
    "print str(var1), type(str(var1))\n",
    "print ''\n",
    "\n",
    "#tipo lista\n",
    "var2 = [var, var1]\n",
    "print 'listas:\\n', var2\n",
    "#bucles\n",
    "for i in var2:\n",
    "    print i\n",
    "print ''  \n",
    "#tipo diccionario\n",
    "var3 = {var:var2}\n",
    "print 'diccionarios:\\n', var3\n",
    "print ''\n",
    "#bucles\n",
    "for key, value in var3.items():\n",
    "    print key, value"
   ]
  },
  {
   "cell_type": "markdown",
   "metadata": {},
   "source": [
    "Por desgracia esa es toda la introduccion a python que podemos hacer, \n",
    "de todos modos hay multitud de cursos gratuitos online:\n",
    "\n",
    "https://www.coursera.org/specializations/python\n",
    "\n",
    "https://www.edx.org/course/introduction-computer-science-mitx-6-00-1x8\n",
    "\n",
    "https://www.futurelearn.com/courses/learn-to-code\n",
    "\n",
    "Tambien hay muchos libros gatuitos y muchos canales de youtube:\n",
    "\n",
    "http://readwrite.com/2011/03/25/python-is-an-increasingly-popu/ \n",
    "\n",
    "https://www.youtube.com/user/TPayneExperience/playlists?view=50&shelf_id=2&sort=dd"
   ]
  }
 ],
 "metadata": {
  "kernelspec": {
   "display_name": "Python 2",
   "language": "python",
   "name": "python2"
  },
  "language_info": {
   "codemirror_mode": {
    "name": "ipython",
    "version": 2
   },
   "file_extension": ".py",
   "mimetype": "text/x-python",
   "name": "python",
   "nbconvert_exporter": "python",
   "pygments_lexer": "ipython2",
   "version": "2.7.11"
  }
 },
 "nbformat": 4,
 "nbformat_minor": 0
}
