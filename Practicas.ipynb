{
 "cells": [
  {
   "cell_type": "markdown",
   "metadata": {},
   "source": [
    "# Extraer valores puntuales con python"
   ]
  },
  {
   "cell_type": "markdown",
   "metadata": {},
   "source": [
    "Vamos a tratar de hacer las mismas practicas realizadas en el curso desde aqui. Para ello debemos de saber como abrir un raster y como abrir un shape"
   ]
  },
  {
   "cell_type": "code",
   "execution_count": 1,
   "metadata": {
    "collapsed": true
   },
   "outputs": [],
   "source": [
    "#Lo primero debemos de importar las librerias que vamos a utilizar\n",
    "import rasterio, fiona\n",
    "import pandas as pd\n",
    "import numpy as np"
   ]
  },
  {
   "cell_type": "code",
   "execution_count": 2,
   "metadata": {
    "collapsed": true
   },
   "outputs": [],
   "source": [
    "#Ahora debemos de crear una variable para el shape y otra para el raster\n",
    "shp = '/home/diego/Downloads/shapes/Points_ndvi_pr1.shp'\n",
    "rst = '/home/diego/Downloads/taller2/RT_LC82020342014336LGN00_B6.TIF'\n",
    "ndvi = '/home/diego/Downloads/datos/ndvi.tif'"
   ]
  },
  {
   "cell_type": "code",
   "execution_count": null,
   "metadata": {
    "collapsed": false
   },
   "outputs": [],
   "source": [
    "#Vamos a abrir el shape y el raster para poder trabajar con ellos\n",
    "with rasterio.open(rst) as src:\n",
    "    b6 = src.read()"
   ]
  },
  {
   "cell_type": "code",
   "execution_count": null,
   "metadata": {
    "collapsed": false
   },
   "outputs": [],
   "source": [
    "#Ya tenemos el raster abierto como shape, ahora podemos trabajar con el\n",
    "#podemos ver por ejemplo la media\n",
    "print 'b6 media:', b6.mean()\n",
    "b6_b = b6[b6!=0]\n",
    "print 'b6_b media:', b6_b.mean()"
   ]
  },
  {
   "cell_type": "code",
   "execution_count": 3,
   "metadata": {
    "collapsed": false
   },
   "outputs": [],
   "source": [
    "#Ahora vamos a abrir el shape\n",
    "vals = {}\n",
    "\n",
    "with fiona.open(shp, 'r') as shp:\n",
    "    \n",
    "    for i in shp.values():\n",
    "        \n",
    "        x = float(i['properties']['X'])\n",
    "        y = float(i['properties']['Y'])\n",
    "        id = i['id']#sacamos el id del punto\n",
    "        nombre = i['properties']['Name']\n",
    "        vals[id] = [id, x, y, nombre]\n",
    "    "
   ]
  },
  {
   "cell_type": "code",
   "execution_count": null,
   "metadata": {
    "collapsed": false
   },
   "outputs": [],
   "source": [
    "for k, v in vals.items():\n",
    "    \n",
    "    print k, v"
   ]
  },
  {
   "cell_type": "markdown",
   "metadata": {},
   "source": [
    "# Vamos a combinar las 2 cosas que hemos hecho para leer los valores del raster en los puntos"
   ]
  },
  {
   "cell_type": "code",
   "execution_count": 4,
   "metadata": {
    "collapsed": false
   },
   "outputs": [
    {
     "name": "stdout",
     "output_type": "stream",
     "text": [
      "1 [-0.60650408]\n",
      "0 [ 0.28460827]\n",
      "3 [ 0.09680091]\n",
      "2 [ 0.19931711]\n",
      "4 [ 0.64370108]\n"
     ]
    }
   ],
   "source": [
    "with rasterio.open(ndvi) as src:  \n",
    "                \n",
    "    for k, v in vals.items():\n",
    "        for val in src.sample([(v[1], v[2])]):\n",
    "            print k, val"
   ]
  },
  {
   "cell_type": "code",
   "execution_count": null,
   "metadata": {
    "collapsed": true
   },
   "outputs": [],
   "source": []
  }
 ],
 "metadata": {
  "kernelspec": {
   "display_name": "Python 2",
   "language": "python",
   "name": "python2"
  },
  "language_info": {
   "codemirror_mode": {
    "name": "ipython",
    "version": 2
   },
   "file_extension": ".py",
   "mimetype": "text/x-python",
   "name": "python",
   "nbconvert_exporter": "python",
   "pygments_lexer": "ipython2",
   "version": "2.7.11"
  }
 },
 "nbformat": 4,
 "nbformat_minor": 0
}
